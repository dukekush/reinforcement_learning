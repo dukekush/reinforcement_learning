{
 "cells": [
  {
   "cell_type": "markdown",
   "metadata": {},
   "source": [
    "# Lab 0: Introduction to numpy & gym\n",
    "In this lab session, we will go over the basic usage of the linear algebra library [numpy](https://numpy.org/), as well as the Reinforcement Learning framework abstraction library [gym](https://gym.openai.com/)."
   ]
  },
  {
   "cell_type": "markdown",
   "metadata": {},
   "source": [
    "## 1. numpy\n",
    "### The numpy array\n",
    "Numpy centers over the multidimensional array object, `array`. It is simply a table of elements (generally scalars), much like a list. In the vast majority of cases, numpy arrays will be containing elements of the same type; this will allow for fast computations."
   ]
  },
  {
   "cell_type": "code",
   "execution_count": 1,
   "metadata": {},
   "outputs": [],
   "source": [
    "import numpy as np"
   ]
  },
  {
   "cell_type": "code",
   "execution_count": 21,
   "metadata": {},
   "outputs": [
    {
     "data": {
      "text/plain": [
       "array([[1., 0., 0.],\n",
       "       [0., 1., 2.]])"
      ]
     },
     "execution_count": 21,
     "metadata": {},
     "output_type": "execute_result"
    }
   ],
   "source": [
    "a = np.array([[1., 0., 0.],\n",
    "              [0., 1., 2.]])\n",
    "a"
   ]
  },
  {
   "cell_type": "markdown",
   "metadata": {},
   "source": [
    "The array can be reffered to as *multidimensional* if there are nested lists; use `array.ndim` to extract the number of dimensions:"
   ]
  },
  {
   "cell_type": "code",
   "execution_count": 22,
   "metadata": {},
   "outputs": [
    {
     "data": {
      "text/plain": [
       "2"
      ]
     },
     "execution_count": 22,
     "metadata": {},
     "output_type": "execute_result"
    }
   ],
   "source": [
    "a.ndim"
   ]
  },
  {
   "cell_type": "markdown",
   "metadata": {},
   "source": [
    "The **shape** of an array provides the number of elements along each dimension, or **axis**, of the array. In our case, our array is a list of two elements, so the first axis is of dimension 2. Since these elements are arrays of 3 elements themselves, the second axis is of dimension 3."
   ]
  },
  {
   "cell_type": "code",
   "execution_count": 23,
   "metadata": {},
   "outputs": [
    {
     "data": {
      "text/plain": [
       "(2, 3)"
      ]
     },
     "execution_count": 23,
     "metadata": {},
     "output_type": "execute_result"
    }
   ],
   "source": [
    "a.shape"
   ]
  },
  {
   "cell_type": "markdown",
   "metadata": {},
   "source": [
    "Note that shapes are expressed as tuples (n,m,k,...).\n",
    "\n",
    "There are several other properties of the array you might be interested about:"
   ]
  },
  {
   "cell_type": "code",
   "execution_count": 24,
   "metadata": {},
   "outputs": [
    {
     "name": "stdout",
     "output_type": "stream",
     "text": [
      "Array of size 6 (total elements); of type float64; size in bytes: 8\n"
     ]
    }
   ],
   "source": [
    "print(f\"Array of size {a.size} (total elements); of type {a.dtype}; size in bytes: {a.itemsize}\")"
   ]
  },
  {
   "cell_type": "markdown",
   "metadata": {},
   "source": [
    "### Creating arrays"
   ]
  },
  {
   "cell_type": "markdown",
   "metadata": {},
   "source": [
    "The main `np.array` function comes with several options, that you can find exhaustively [here](https://numpy.org/doc/stable/reference/generated/numpy.array.html). \n",
    "\n",
    "Mainly, it takes in a list (or array), and can take in the desired [data type](https://numpy.org/doc/stable/user/basics.types.html):"
   ]
  },
  {
   "cell_type": "code",
   "execution_count": 25,
   "metadata": {},
   "outputs": [
    {
     "data": {
      "text/plain": [
       "array([[1, 2, 3],\n",
       "       [4, 5, 6],\n",
       "       [7, 8, 9]], dtype=int8)"
      ]
     },
     "execution_count": 25,
     "metadata": {},
     "output_type": "execute_result"
    }
   ],
   "source": [
    "l = [[1., 2., 3.],\n",
    "     [4., 5., 6.],\n",
    "     [7., 8., 9.]]\n",
    "\n",
    "np.array(l, dtype=np.int8)"
   ]
  },
  {
   "cell_type": "markdown",
   "metadata": {},
   "source": [
    "The `zeros` and `ones` functions are very convenient to quickly create arrays full of zeros or ones. We need to pass in the desired shape; and can additionally request a data type again:"
   ]
  },
  {
   "cell_type": "code",
   "execution_count": 26,
   "metadata": {},
   "outputs": [
    {
     "data": {
      "text/plain": [
       "array([[0., 0., 0., 0., 0., 0., 0., 0., 0., 0.],\n",
       "       [0., 0., 0., 0., 0., 0., 0., 0., 0., 0.],\n",
       "       [0., 0., 0., 0., 0., 0., 0., 0., 0., 0.],\n",
       "       [0., 0., 0., 0., 0., 0., 0., 0., 0., 0.],\n",
       "       [0., 0., 0., 0., 0., 0., 0., 0., 0., 0.]], dtype=float32)"
      ]
     },
     "execution_count": 26,
     "metadata": {},
     "output_type": "execute_result"
    }
   ],
   "source": [
    "np.zeros((5,10), dtype=np.float32)"
   ]
  },
  {
   "cell_type": "code",
   "execution_count": 27,
   "metadata": {},
   "outputs": [
    {
     "data": {
      "text/plain": [
       "array([[1, 1, 1, 1, 1, 1, 1, 1, 1, 1],\n",
       "       [1, 1, 1, 1, 1, 1, 1, 1, 1, 1],\n",
       "       [1, 1, 1, 1, 1, 1, 1, 1, 1, 1],\n",
       "       [1, 1, 1, 1, 1, 1, 1, 1, 1, 1],\n",
       "       [1, 1, 1, 1, 1, 1, 1, 1, 1, 1]], dtype=int8)"
      ]
     },
     "execution_count": 27,
     "metadata": {},
     "output_type": "execute_result"
    }
   ],
   "source": [
    "np.ones((5,10), dtype=np.int8)"
   ]
  },
  {
   "cell_type": "markdown",
   "metadata": {},
   "source": [
    "For any specific value, use `np.full`:"
   ]
  },
  {
   "cell_type": "code",
   "execution_count": 28,
   "metadata": {},
   "outputs": [
    {
     "data": {
      "text/plain": [
       "array([[5, 5, 5, 5, 5, 5, 5, 5, 5, 5],\n",
       "       [5, 5, 5, 5, 5, 5, 5, 5, 5, 5],\n",
       "       [5, 5, 5, 5, 5, 5, 5, 5, 5, 5],\n",
       "       [5, 5, 5, 5, 5, 5, 5, 5, 5, 5],\n",
       "       [5, 5, 5, 5, 5, 5, 5, 5, 5, 5]])"
      ]
     },
     "execution_count": 28,
     "metadata": {},
     "output_type": "execute_result"
    }
   ],
   "source": [
    "np.full((5,10), 5)"
   ]
  },
  {
   "cell_type": "markdown",
   "metadata": {},
   "source": [
    "We can also match another array's shape directly using `zeros_like`, `ones_like` or `full_like`:"
   ]
  },
  {
   "cell_type": "code",
   "execution_count": 29,
   "metadata": {},
   "outputs": [
    {
     "data": {
      "text/plain": [
       "array([[1., 0., 0.],\n",
       "       [0., 1., 2.]])"
      ]
     },
     "execution_count": 29,
     "metadata": {},
     "output_type": "execute_result"
    }
   ],
   "source": [
    "a"
   ]
  },
  {
   "cell_type": "code",
   "execution_count": 30,
   "metadata": {},
   "outputs": [
    {
     "data": {
      "text/plain": [
       "array([[1., 1., 1.],\n",
       "       [1., 1., 1.]])"
      ]
     },
     "execution_count": 30,
     "metadata": {},
     "output_type": "execute_result"
    }
   ],
   "source": [
    "np.ones_like(a)"
   ]
  },
  {
   "cell_type": "code",
   "execution_count": 33,
   "metadata": {},
   "outputs": [
    {
     "data": {
      "text/plain": [
       "array([[16., 16., 16.],\n",
       "       [16., 16., 16.]])"
      ]
     },
     "execution_count": 33,
     "metadata": {},
     "output_type": "execute_result"
    }
   ],
   "source": [
    "np.full_like(a, fill_value=16)"
   ]
  },
  {
   "cell_type": "markdown",
   "metadata": {},
   "source": [
    "If you want to create an array that you will fill in later, you can use `np.empty`. This will simply allocate data in RAM, without touching its value (set by past operations) - so be careful when using it!"
   ]
  },
  {
   "cell_type": "code",
   "execution_count": 34,
   "metadata": {},
   "outputs": [
    {
     "data": {
      "text/plain": [
       "array([[0., 0., 0.],\n",
       "       [0., 0., 0.],\n",
       "       [0., 0., 0.],\n",
       "       [0., 0., 0.]])"
      ]
     },
     "execution_count": 34,
     "metadata": {},
     "output_type": "execute_result"
    }
   ],
   "source": [
    "np.empty((4,3))"
   ]
  },
  {
   "cell_type": "markdown",
   "metadata": {},
   "source": [
    "We can generate sequences of numbers using `np.arange`:"
   ]
  },
  {
   "cell_type": "code",
   "execution_count": 36,
   "metadata": {},
   "outputs": [
    {
     "data": {
      "text/plain": [
       "array([ 0,  2,  4,  6,  8, 10, 12, 14, 16, 18])"
      ]
     },
     "execution_count": 36,
     "metadata": {},
     "output_type": "execute_result"
    }
   ],
   "source": [
    "np.arange(start=0, stop=20, step=2)"
   ]
  },
  {
   "cell_type": "markdown",
   "metadata": {},
   "source": [
    "We can control the shape after creation with `reshape`:"
   ]
  },
  {
   "cell_type": "code",
   "execution_count": 37,
   "metadata": {},
   "outputs": [
    {
     "data": {
      "text/plain": [
       "array([[ 0,  2,  4,  6,  8],\n",
       "       [10, 12, 14, 16, 18]])"
      ]
     },
     "execution_count": 37,
     "metadata": {},
     "output_type": "execute_result"
    }
   ],
   "source": [
    "np.arange(start=0, stop=20, step=2).reshape((2,5))"
   ]
  },
  {
   "cell_type": "markdown",
   "metadata": {},
   "source": [
    "#### Random array generation\n",
    "The `np.random` module allows you to generate random arrays sampled from [virtually all relevant distributions](https://docs.scipy.org/doc/numpy-1.14.0/reference/routines.random.html):"
   ]
  },
  {
   "cell_type": "code",
   "execution_count": 39,
   "metadata": {},
   "outputs": [
    {
     "data": {
      "text/plain": [
       "array([0.18376279, 0.30316804, 0.75989443, 0.75434861, 0.99841623,\n",
       "       0.82957265, 0.00340769, 0.26109126, 0.64455236, 0.65169729])"
      ]
     },
     "execution_count": 39,
     "metadata": {},
     "output_type": "execute_result"
    }
   ],
   "source": [
    "np.random.uniform(low=0, high=1, size=10) # Sampling 10 elements from U[0,1] # same as np.random.rand()"
   ]
  },
  {
   "cell_type": "code",
   "execution_count": 40,
   "metadata": {},
   "outputs": [
    {
     "data": {
      "text/plain": [
       "array([ 1.48333076,  0.34783729, -0.71843676, -2.91847874,  0.48274954,\n",
       "       -0.00428433, -0.72309819,  1.70455102, -0.03691577,  0.26176414])"
      ]
     },
     "execution_count": 40,
     "metadata": {},
     "output_type": "execute_result"
    }
   ],
   "source": [
    "np.random.normal(loc=0, scale=1, size=10) # Sampling 10 elements from N[0,1]"
   ]
  },
  {
   "cell_type": "code",
   "execution_count": 47,
   "metadata": {},
   "outputs": [
    {
     "data": {
      "text/plain": [
       "array([11, 82, 17, 15, 39, 58, 88, 49, 75, 72])"
      ]
     },
     "execution_count": 47,
     "metadata": {},
     "output_type": "execute_result"
    }
   ],
   "source": [
    "np.random.randint(low=0, high=100, size=10) # 10 random integers in [0,100]"
   ]
  },
  {
   "cell_type": "code",
   "execution_count": 54,
   "metadata": {},
   "outputs": [
    {
     "data": {
      "text/plain": [
       "array([1.5, 6. , 0.3, 9. , 1. ])"
      ]
     },
     "execution_count": 54,
     "metadata": {},
     "output_type": "execute_result"
    }
   ],
   "source": [
    "np.random.permutation([1, 1.5, 0.3, 6, 9])"
   ]
  },
  {
   "cell_type": "markdown",
   "metadata": {},
   "source": [
    "## Array operations\n",
    "The real benefit of using numpy is in its fast implementation of array-wide operations. We can add and multiply arrays together efficiently with the basic operations:"
   ]
  },
  {
   "cell_type": "code",
   "execution_count": 70,
   "metadata": {},
   "outputs": [
    {
     "name": "stdout",
     "output_type": "stream",
     "text": [
      "[0 1 2] [0 2 5]\n"
     ]
    }
   ],
   "source": [
    "a = np.arange(0,3,   dtype=int)\n",
    "b = np.array([0,2,5],dtype=int)\n",
    "\n",
    "print(a,b)"
   ]
  },
  {
   "cell_type": "code",
   "execution_count": 72,
   "metadata": {},
   "outputs": [
    {
     "data": {
      "text/plain": [
       "array([0, 3, 7])"
      ]
     },
     "execution_count": 72,
     "metadata": {},
     "output_type": "execute_result"
    }
   ],
   "source": [
    "a+b"
   ]
  },
  {
   "cell_type": "code",
   "execution_count": 73,
   "metadata": {},
   "outputs": [
    {
     "data": {
      "text/plain": [
       "array([ 0,  2, 10])"
      ]
     },
     "execution_count": 73,
     "metadata": {},
     "output_type": "execute_result"
    }
   ],
   "source": [
    "a*b"
   ]
  },
  {
   "cell_type": "code",
   "execution_count": 74,
   "metadata": {},
   "outputs": [
    {
     "data": {
      "text/plain": [
       "array([5, 7, 9])"
      ]
     },
     "execution_count": 74,
     "metadata": {},
     "output_type": "execute_result"
    }
   ],
   "source": [
    "a*2 + 5"
   ]
  },
  {
   "cell_type": "code",
   "execution_count": 75,
   "metadata": {},
   "outputs": [
    {
     "data": {
      "text/plain": [
       "array([ 1,  1, 32])"
      ]
     },
     "execution_count": 75,
     "metadata": {},
     "output_type": "execute_result"
    }
   ],
   "source": [
    "a**b"
   ]
  },
  {
   "cell_type": "markdown",
   "metadata": {},
   "source": [
    "We can also extract boolean arrays by applying comparisons:"
   ]
  },
  {
   "cell_type": "code",
   "execution_count": 76,
   "metadata": {},
   "outputs": [
    {
     "data": {
      "text/plain": [
       "array([False, False,  True])"
      ]
     },
     "execution_count": 76,
     "metadata": {},
     "output_type": "execute_result"
    }
   ],
   "source": [
    "a > 1"
   ]
  },
  {
   "cell_type": "code",
   "execution_count": 77,
   "metadata": {},
   "outputs": [
    {
     "data": {
      "text/plain": [
       "array([False,  True,  True])"
      ]
     },
     "execution_count": 77,
     "metadata": {},
     "output_type": "execute_result"
    }
   ],
   "source": [
    "b > a"
   ]
  },
  {
   "cell_type": "markdown",
   "metadata": {},
   "source": [
    "All of the generic mathematical functions are available in numpy, and efficiently applied array-wide:"
   ]
  },
  {
   "cell_type": "code",
   "execution_count": 78,
   "metadata": {},
   "outputs": [
    {
     "data": {
      "text/plain": [
       "array([ 1.        ,  0.54030231, -0.41614684])"
      ]
     },
     "execution_count": 78,
     "metadata": {},
     "output_type": "execute_result"
    }
   ],
   "source": [
    "np.cos(a)"
   ]
  },
  {
   "cell_type": "code",
   "execution_count": 81,
   "metadata": {},
   "outputs": [
    {
     "data": {
      "text/plain": [
       "array([  1.       ,   7.3890561, 148.4131591])"
      ]
     },
     "execution_count": 81,
     "metadata": {},
     "output_type": "execute_result"
    }
   ],
   "source": [
    "np.exp(b)"
   ]
  },
  {
   "cell_type": "markdown",
   "metadata": {},
   "source": [
    "You might have noted that arrays aren't really vectors, as multiplication is element-wise. If we want to apply the dot product (with a sanity check below):"
   ]
  },
  {
   "cell_type": "code",
   "execution_count": 27,
   "metadata": {},
   "outputs": [
    {
     "data": {
      "text/plain": [
       "12"
      ]
     },
     "execution_count": 27,
     "metadata": {},
     "output_type": "execute_result"
    }
   ],
   "source": [
    "np.dot(a,b)"
   ]
  },
  {
   "cell_type": "code",
   "execution_count": 83,
   "metadata": {},
   "outputs": [
    {
     "data": {
      "text/plain": [
       "12"
      ]
     },
     "execution_count": 83,
     "metadata": {},
     "output_type": "execute_result"
    }
   ],
   "source": [
    "sum([ea*eb for ea,eb in zip(a,b)])"
   ]
  },
  {
   "cell_type": "markdown",
   "metadata": {},
   "source": [
    "## Indexing, slicing\n",
    "The other main benefit of numpy is the efficient and quite intuitive array **indexing** - i.e., access specific coordinates in the array:"
   ]
  },
  {
   "cell_type": "code",
   "execution_count": 84,
   "metadata": {},
   "outputs": [
    {
     "data": {
      "text/plain": [
       "array([ 0,  2,  4,  6,  8, 10, 12, 14, 16, 18])"
      ]
     },
     "execution_count": 84,
     "metadata": {},
     "output_type": "execute_result"
    }
   ],
   "source": [
    "a = np.arange(10)*2\n",
    "a"
   ]
  },
  {
   "cell_type": "code",
   "execution_count": 85,
   "metadata": {},
   "outputs": [
    {
     "data": {
      "text/plain": [
       "2"
      ]
     },
     "execution_count": 85,
     "metadata": {},
     "output_type": "execute_result"
    }
   ],
   "source": [
    "a[1]"
   ]
  },
  {
   "cell_type": "code",
   "execution_count": 86,
   "metadata": {},
   "outputs": [
    {
     "data": {
      "text/plain": [
       "18"
      ]
     },
     "execution_count": 86,
     "metadata": {},
     "output_type": "execute_result"
    }
   ],
   "source": [
    "a[-1] # climbing down from the top"
   ]
  },
  {
   "cell_type": "markdown",
   "metadata": {},
   "source": [
    "We can use boolean arrays to access True elements in a numpy array through indexing:"
   ]
  },
  {
   "cell_type": "code",
   "execution_count": 87,
   "metadata": {},
   "outputs": [
    {
     "data": {
      "text/plain": [
       "array([False, False, False,  True,  True,  True,  True,  True,  True,\n",
       "        True])"
      ]
     },
     "execution_count": 87,
     "metadata": {},
     "output_type": "execute_result"
    }
   ],
   "source": [
    "b = a>4\n",
    "b"
   ]
  },
  {
   "cell_type": "code",
   "execution_count": 88,
   "metadata": {},
   "outputs": [
    {
     "data": {
      "text/plain": [
       "array([ 6,  8, 10, 12, 14, 16, 18])"
      ]
     },
     "execution_count": 88,
     "metadata": {},
     "output_type": "execute_result"
    }
   ],
   "source": [
    "a[b]"
   ]
  },
  {
   "cell_type": "markdown",
   "metadata": {},
   "source": [
    "We can also use arrays for indexing"
   ]
  },
  {
   "cell_type": "code",
   "execution_count": 89,
   "metadata": {},
   "outputs": [
    {
     "data": {
      "text/plain": [
       "array([ 6, 12, 18])"
      ]
     },
     "execution_count": 89,
     "metadata": {},
     "output_type": "execute_result"
    }
   ],
   "source": [
    "index_array = [3,6,9]\n",
    "a[index_array]"
   ]
  },
  {
   "cell_type": "markdown",
   "metadata": {},
   "source": [
    "Be careful when indexing multidimensional arrays! Numpy expects a tuple of arrays, (a,b,c,..) with a the indexes along the first dimension, b along the second, etc. So a,b and c can be arrays, but the accessing index i in the array, in array\\[i\\], needs to be a tuple!"
   ]
  },
  {
   "cell_type": "code",
   "execution_count": 90,
   "metadata": {},
   "outputs": [
    {
     "name": "stdout",
     "output_type": "stream",
     "text": [
      "Naive grabbing of the 3,4 cell: \n",
      "[[15 16 17 18 19]\n",
      " [20 21 22 23 24]]\n",
      "Correct grabbing of the 3,4 cell: \n",
      "19\n",
      "Correct grabbing of the [0,0] and [3,4] cells: \n",
      "[ 0 19]\n"
     ]
    }
   ],
   "source": [
    "a = np.arange(25).reshape(5,5)\n",
    "index = [3,4] # if I wanted to grab the cell [3,4]...\n",
    "correct_index = (3,4) # \n",
    "print(f\"Naive grabbing of the 3,4 cell: \\n{a[index]}\") # be careful! this grabs the rows of these indexes \n",
    "print(f\"Correct grabbing of the 3,4 cell: \\n{a[correct_index]}\") # this is the correct way\n",
    "\n",
    "correct_indexes = ([0, 3], [0,4]) # if we want to grab [0,0] and [3,4] \n",
    "print(f\"Correct grabbing of the [0,0] and [3,4] cells: \\n{a[correct_indexes]}\") # this is the correct way"
   ]
  },
  {
   "cell_type": "markdown",
   "metadata": {},
   "source": [
    "Array **slicing** allows you to perform cuts in the array:"
   ]
  },
  {
   "cell_type": "code",
   "execution_count": 103,
   "metadata": {},
   "outputs": [],
   "source": [
    "a = np.arange(10)"
   ]
  },
  {
   "cell_type": "code",
   "execution_count": 104,
   "metadata": {},
   "outputs": [
    {
     "data": {
      "text/plain": [
       "array([6, 7, 8, 9])"
      ]
     },
     "execution_count": 104,
     "metadata": {},
     "output_type": "execute_result"
    }
   ],
   "source": [
    "a[6:]"
   ]
  },
  {
   "cell_type": "code",
   "execution_count": 105,
   "metadata": {},
   "outputs": [
    {
     "data": {
      "text/plain": [
       "array([0, 1, 2, 3, 4, 5, 6])"
      ]
     },
     "execution_count": 105,
     "metadata": {},
     "output_type": "execute_result"
    }
   ],
   "source": [
    "a[:-3]"
   ]
  },
  {
   "cell_type": "code",
   "execution_count": 106,
   "metadata": {},
   "outputs": [
    {
     "data": {
      "text/plain": [
       "array([1, 2, 3, 4])"
      ]
     },
     "execution_count": 106,
     "metadata": {},
     "output_type": "execute_result"
    }
   ],
   "source": [
    "a[1:5]"
   ]
  },
  {
   "cell_type": "markdown",
   "metadata": {},
   "source": [
    "Slicing is even more relevant for multidimensional arrays:"
   ]
  },
  {
   "cell_type": "code",
   "execution_count": 107,
   "metadata": {},
   "outputs": [
    {
     "data": {
      "text/plain": [
       "array([[0, 1, 2, 3, 4],\n",
       "       [5, 6, 7, 8, 9]])"
      ]
     },
     "execution_count": 107,
     "metadata": {},
     "output_type": "execute_result"
    }
   ],
   "source": [
    "a = np.arange(10).reshape(2,5)\n",
    "a"
   ]
  },
  {
   "cell_type": "code",
   "execution_count": 108,
   "metadata": {},
   "outputs": [
    {
     "data": {
      "text/plain": [
       "array([3, 8])"
      ]
     },
     "execution_count": 108,
     "metadata": {},
     "output_type": "execute_result"
    }
   ],
   "source": [
    "a[:, 3] # for all (:) of the first axis, access the second axis, position 3"
   ]
  },
  {
   "cell_type": "code",
   "execution_count": 109,
   "metadata": {},
   "outputs": [
    {
     "data": {
      "text/plain": [
       "array([0, 1, 2, 3, 4])"
      ]
     },
     "execution_count": 109,
     "metadata": {},
     "output_type": "execute_result"
    }
   ],
   "source": [
    "a[0,:]"
   ]
  },
  {
   "cell_type": "markdown",
   "metadata": {},
   "source": [
    "**IMPORTANT** -- slicing or indexing is called a *view* of your array. It is *still* your array!"
   ]
  },
  {
   "cell_type": "code",
   "execution_count": 110,
   "metadata": {},
   "outputs": [
    {
     "data": {
      "text/plain": [
       "array([3, 8])"
      ]
     },
     "execution_count": 110,
     "metadata": {},
     "output_type": "execute_result"
    }
   ],
   "source": [
    "b = a[:,3]\n",
    "b"
   ]
  },
  {
   "cell_type": "code",
   "execution_count": 111,
   "metadata": {},
   "outputs": [
    {
     "data": {
      "text/plain": [
       "array([-3, -8])"
      ]
     },
     "execution_count": 111,
     "metadata": {},
     "output_type": "execute_result"
    }
   ],
   "source": [
    "b *= -1\n",
    "b"
   ]
  },
  {
   "cell_type": "code",
   "execution_count": 112,
   "metadata": {},
   "outputs": [
    {
     "data": {
      "text/plain": [
       "array([[ 0,  1,  2, -3,  4],\n",
       "       [ 5,  6,  7, -8,  9]])"
      ]
     },
     "execution_count": 112,
     "metadata": {},
     "output_type": "execute_result"
    }
   ],
   "source": [
    "a"
   ]
  },
  {
   "cell_type": "markdown",
   "metadata": {},
   "source": [
    "Changing with \\*= or += accesses the memory of the variable itself, while using `b = np.empty(1)` wouldn't have changed `a` as the variable `b` would have been completely reassigned.\n",
    "\n",
    "While this *view* thing can be dangerous, it can also be very convenient:"
   ]
  },
  {
   "cell_type": "code",
   "execution_count": 113,
   "metadata": {},
   "outputs": [
    {
     "data": {
      "text/plain": [
       "array([[ 0,  1,  2, -1,  4],\n",
       "       [ 5,  6,  7, -1,  9]])"
      ]
     },
     "execution_count": 113,
     "metadata": {},
     "output_type": "execute_result"
    }
   ],
   "source": [
    "a[:,3] = [-1, -1] # supports list or array affectation\n",
    "a"
   ]
  },
  {
   "cell_type": "markdown",
   "metadata": {},
   "source": [
    "Be careful matching dimensions!"
   ]
  },
  {
   "cell_type": "code",
   "execution_count": 116,
   "metadata": {},
   "outputs": [
    {
     "data": {
      "text/plain": [
       "(2, 5)"
      ]
     },
     "execution_count": 116,
     "metadata": {},
     "output_type": "execute_result"
    }
   ],
   "source": [
    "a.shape"
   ]
  },
  {
   "cell_type": "code",
   "execution_count": 117,
   "metadata": {},
   "outputs": [
    {
     "ename": "ValueError",
     "evalue": "could not broadcast input array from shape (4,) into shape (5,)",
     "output_type": "error",
     "traceback": [
      "\u001b[0;31m---------------------------------------------------------------------------\u001b[0m",
      "\u001b[0;31mValueError\u001b[0m                                Traceback (most recent call last)",
      "Cell \u001b[0;32mIn[117], line 1\u001b[0m\n\u001b[0;32m----> 1\u001b[0m a[\u001b[39m1\u001b[39;49m,:] \u001b[39m=\u001b[39m [\u001b[39m-\u001b[39m\u001b[39m1\u001b[39m,\u001b[39m-\u001b[39m\u001b[39m2\u001b[39m,\u001b[39m-\u001b[39m\u001b[39m3\u001b[39m,\u001b[39m-\u001b[39m\u001b[39m4\u001b[39m] \u001b[39m# error: trying to put 4 values in a 5-valued array\u001b[39;00m\n",
      "\u001b[0;31mValueError\u001b[0m: could not broadcast input array from shape (4,) into shape (5,)"
     ]
    }
   ],
   "source": [
    "a[1,:] = [-1,-2,-3,-4] # error: trying to put 4 values in a 5-valued array"
   ]
  },
  {
   "cell_type": "markdown",
   "metadata": {},
   "source": [
    "However, constants work automatically (\"broadcasting\"):"
   ]
  },
  {
   "cell_type": "code",
   "execution_count": 118,
   "metadata": {},
   "outputs": [
    {
     "data": {
      "text/plain": [
       "array([[ 0,  1,  2, -1,  4],\n",
       "       [-1, -1, -1, -1, -1]])"
      ]
     },
     "execution_count": 118,
     "metadata": {},
     "output_type": "execute_result"
    }
   ],
   "source": [
    "a[1,:] = -1\n",
    "a"
   ]
  },
  {
   "cell_type": "markdown",
   "metadata": {},
   "source": [
    "## Heavy lifting\n",
    "Let's visualize some of the operations we can do"
   ]
  },
  {
   "cell_type": "code",
   "execution_count": 1,
   "metadata": {},
   "outputs": [],
   "source": [
    "import matplotlib\n",
    "import matplotlib.pyplot as plt\n",
    "import numpy as np"
   ]
  },
  {
   "cell_type": "markdown",
   "metadata": {},
   "source": [
    "Suppose we have an RGB image of size 160x90:"
   ]
  },
  {
   "cell_type": "code",
   "execution_count": 2,
   "metadata": {},
   "outputs": [
    {
     "data": {
      "text/plain": [
       "(90, 160, 3)"
      ]
     },
     "execution_count": 2,
     "metadata": {},
     "output_type": "execute_result"
    },
    {
     "data": {
      "image/png": "[encoded data removed]",
      "text/plain": [
       "<Figure size 640x480 with 1 Axes>"
      ]
     },
     "metadata": {},
     "output_type": "display_data"
    }
   ],
   "source": [
    "shape = (90, 160, 3) # 900 rows, 1600 columns; each pixel value is a 3D array [R,G,B]\n",
    "rgb_image = np.random.randint(low=0, high=256, size=shape) # pixel values\n",
    "\n",
    "plt.imshow(rgb_image)\n",
    "rgb_image.shape"
   ]
  },
  {
   "cell_type": "markdown",
   "metadata": {},
   "source": [
    "Let's check whether our random generator is good - we want our average pixel value to be around 255/2:"
   ]
  },
  {
   "cell_type": "code",
   "execution_count": 3,
   "metadata": {},
   "outputs": [
    {
     "data": {
      "text/plain": [
       "127.88081018518518"
      ]
     },
     "execution_count": 3,
     "metadata": {},
     "output_type": "execute_result"
    }
   ],
   "source": [
    "rgb_image.mean()"
   ]
  },
  {
   "cell_type": "markdown",
   "metadata": {},
   "source": [
    "Let's add a red rectangle in the middle of our image:"
   ]
  },
  {
   "cell_type": "code",
   "execution_count": 4,
   "metadata": {},
   "outputs": [
    {
     "data": {
      "text/plain": [
       "(90, 160, 3)"
      ]
     },
     "execution_count": 4,
     "metadata": {},
     "output_type": "execute_result"
    },
    {
     "data": {
      "image/png": "[encoded data removed]",
      "text/plain": [
       "<Figure size 640x480 with 1 Axes>"
      ]
     },
     "metadata": {},
     "output_type": "display_data"
    }
   ],
   "source": [
    "rgb_image[30:60, 50:100, :] = np.array([255,0,0])\n",
    "\n",
    "plt.imshow(rgb_image)\n",
    "rgb_image.shape"
   ]
  },
  {
   "cell_type": "markdown",
   "metadata": {},
   "source": [
    "Let's say we wanted to turn this into a greyscale version. We need to decide how we want to lose our information (3D to 1D); the most natural way to do this in this case is through a simple mean. So we need to perform a mean over the RGB axis, and then divide by 256:"
   ]
  },
  {
   "cell_type": "code",
   "execution_count": 5,
   "metadata": {},
   "outputs": [
    {
     "data": {
      "text/plain": [
       "(90, 160)"
      ]
     },
     "execution_count": 5,
     "metadata": {},
     "output_type": "execute_result"
    },
    {
     "data": {
      "image/png": "[encoded data removed]",
      "text/plain": [
       "<Figure size 640x480 with 1 Axes>"
      ]
     },
     "metadata": {},
     "output_type": "display_data"
    }
   ],
   "source": [
    "grey_image = rgb_image.mean(-1)/255 # .mean(-1) is equivalent to .mean(2), either meaning \"last\" or \"2nd (starting 0)\" axis\n",
    "\n",
    "plt.imshow(grey_image, cmap='gray')\n",
    "grey_image.shape"
   ]
  },
  {
   "cell_type": "code",
   "execution_count": 6,
   "metadata": {},
   "outputs": [
    {
     "data": {
      "text/plain": [
       "0.4831055737109658"
      ]
     },
     "execution_count": 6,
     "metadata": {},
     "output_type": "execute_result"
    }
   ],
   "source": [
    "grey_image.mean()"
   ]
  },
  {
   "cell_type": "markdown",
   "metadata": {},
   "source": [
    "Let's say we wanted to make this completely black & white; there would be several approaches. The most straightforward should be to round up the values using `np.round`:"
   ]
  },
  {
   "cell_type": "code",
   "execution_count": 7,
   "metadata": {},
   "outputs": [
    {
     "data": {
      "text/plain": [
       "<matplotlib.image.AxesImage at 0x10e811630>"
      ]
     },
     "execution_count": 7,
     "metadata": {},
     "output_type": "execute_result"
    },
    {
     "data": {
      "image/png": "[encoded data removed]",
      "text/plain": [
       "<Figure size 640x480 with 1 Axes>"
      ]
     },
     "metadata": {},
     "output_type": "display_data"
    }
   ],
   "source": [
    "plt.imshow(np.round(grey_image), cmap='gray') # QR code generation?"
   ]
  },
  {
   "cell_type": "markdown",
   "metadata": {},
   "source": [
    "If we wanted more control, e.g. only setting the values `>0.25` to white (1) without changing the rest:"
   ]
  },
  {
   "cell_type": "code",
   "execution_count": 8,
   "metadata": {},
   "outputs": [
    {
     "data": {
      "text/plain": [
       "<matplotlib.image.AxesImage at 0x10e852560>"
      ]
     },
     "execution_count": 8,
     "metadata": {},
     "output_type": "execute_result"
    },
    {
     "data": {
      "image/png": "[encoded data removed]",
      "text/plain": [
       "<Figure size 640x480 with 1 Axes>"
      ]
     },
     "metadata": {},
     "output_type": "display_data"
    }
   ],
   "source": [
    "white_image = grey_image.copy()\n",
    "white_indexes = grey_image>0.25\n",
    "white_image[white_indexes] = 1. # could be done in one step: white_image[grey_image>0.25] = 1.\n",
    "plt.imshow(white_image, cmap='gray')"
   ]
  },
  {
   "cell_type": "markdown",
   "metadata": {},
   "source": [
    "We can trivially count the fraction of black pixels in this last image:"
   ]
  },
  {
   "cell_type": "code",
   "execution_count": 9,
   "metadata": {},
   "outputs": [
    {
     "data": {
      "text/plain": [
       "0.06131944444444445"
      ]
     },
     "execution_count": 9,
     "metadata": {},
     "output_type": "execute_result"
    }
   ],
   "source": [
    "flip = np.round(1-white_image) # reverts black and white, now black pixels are 1\n",
    "flip.sum()/flip.size # in other words, flip.mean()"
   ]
  },
  {
   "cell_type": "code",
   "execution_count": 10,
   "metadata": {},
   "outputs": [
    {
     "data": {
      "text/plain": [
       "<matplotlib.image.AxesImage at 0x10e8d2410>"
      ]
     },
     "execution_count": 10,
     "metadata": {},
     "output_type": "execute_result"
    },
    {
     "data": {
      "image/png": "[encoded data removed]",
      "text/plain": [
       "<Figure size 640x480 with 1 Axes>"
      ]
     },
     "metadata": {},
     "output_type": "display_data"
    }
   ],
   "source": [
    "plt.imshow(flip, cmap='gray')"
   ]
  },
  {
   "cell_type": "markdown",
   "metadata": {},
   "source": [
    "Surprise maths question: why isn't this close to 25%?"
   ]
  },
  {
   "attachments": {
    "RL.png": {
     "image/png": "[encoded data removed]"
    }
   },
   "cell_type": "markdown",
   "metadata": {},
   "source": [
    "## 2. OpenAI gym\n",
    "\n",
    "### Overview\n",
    "\n",
    "[OpenAI gym](https://gym.openai.com/) is a library that provides formalism for Reinforcement Learning environments.\n",
    "\n",
    "As you might remember from the intro course, from a high-level, Reinforcement Learning consists of the interactions between an **Agent** and an **Environment**:\n",
    "\n",
    "![RL.png](attachment:RL.png)\n",
    "\n",
    "gym instantiates these interactions by providing methods for the Environment side:\n",
    "\n",
    "- `reset` restarts an episode. It sets the Environment in a starting state S_0 that is returned.\n",
    "- `step` is the core method encapsulating the Environment response - given an action, this method returns a new state and a reward. Since the RL algorithm needs to know about terminal states, it also returns the `done` signal, indciating whether the episode is done. It also returns an `info` dictionary for our plotting convenience, that the agent is not allowed to observe.\n",
    "\n",
    "This abstraction of an Environment is very generic, and that is the whole purpose - an RL Agent should be able to learn from scratch, regardless of the Environment it has to solve. There are obviously more elements to the gym Environments, but we'll see them as we move forward.\n",
    "\n",
    "From a game developer's perspective, a gym Environment can be seen as encapsulating the Game and Visuals dynamics, and assuming the Controls are handled somewhere else.\n",
    "\n",
    "### The gym interface\n",
    "Here is an example of a simple game already implemented in gym: [Frozen Lake](https://gym.openai.com/envs/FrozenLake8x8-v0/)"
   ]
  },
  {
   "cell_type": "code",
   "execution_count": 11,
   "metadata": {
    "scrolled": true
   },
   "outputs": [
    {
     "name": "stdout",
     "output_type": "stream",
     "text": [
      "\n",
      "\u001b[41mS\u001b[0mFFFFFFF\n",
      "FFFFFFFF\n",
      "FFFHFFFF\n",
      "FFFFFHFF\n",
      "FFFHFFFF\n",
      "FHHFFFHF\n",
      "FHFFHFHF\n",
      "FFFHFFFG\n",
      "State observed by the Agent: 0\n",
      "  (Left)\n",
      "\u001b[41mS\u001b[0mFFFFFFF\n",
      "FFFFFFFF\n",
      "FFFHFFFF\n",
      "FFFFFHFF\n",
      "FFFHFFFF\n",
      "FHHFFFHF\n",
      "FHFFHFHF\n",
      "FFFHFFFG\n",
      "State observed by the Agent: 0\n",
      "  (Right)\n",
      "SFFFFFFF\n",
      "\u001b[41mF\u001b[0mFFFFFFF\n",
      "FFFHFFFF\n",
      "FFFFFHFF\n",
      "FFFHFFFF\n",
      "FHHFFFHF\n",
      "FHFFHFHF\n",
      "FFFHFFFG\n",
      "State observed by the Agent: 8\n",
      "  (Left)\n",
      "\u001b[41mS\u001b[0mFFFFFFF\n",
      "FFFFFFFF\n",
      "FFFHFFFF\n",
      "FFFFFHFF\n",
      "FFFHFFFF\n",
      "FHHFFFHF\n",
      "FHFFHFHF\n",
      "FFFHFFFG\n",
      "State observed by the Agent: 0\n",
      "  (Up)\n",
      "S\u001b[41mF\u001b[0mFFFFFF\n",
      "FFFFFFFF\n",
      "FFFHFFFF\n",
      "FFFFFHFF\n",
      "FFFHFFFF\n",
      "FHHFFFHF\n",
      "FHFFHFHF\n",
      "FFFHFFFG\n",
      "State observed by the Agent: 1\n",
      "  (Up)\n",
      "SF\u001b[41mF\u001b[0mFFFFF\n",
      "FFFFFFFF\n",
      "FFFHFFFF\n",
      "FFFFFHFF\n",
      "FFFHFFFF\n",
      "FHHFFFHF\n",
      "FHFFHFHF\n",
      "FFFHFFFG\n",
      "State observed by the Agent: 2\n",
      "  (Right)\n",
      "SF\u001b[41mF\u001b[0mFFFFF\n",
      "FFFFFFFF\n",
      "FFFHFFFF\n",
      "FFFFFHFF\n",
      "FFFHFFFF\n",
      "FHHFFFHF\n",
      "FHFFHFHF\n",
      "FFFHFFFG\n",
      "State observed by the Agent: 2\n",
      "  (Down)\n",
      "SFFFFFFF\n",
      "FF\u001b[41mF\u001b[0mFFFFF\n",
      "FFFHFFFF\n",
      "FFFFFHFF\n",
      "FFFHFFFF\n",
      "FHHFFFHF\n",
      "FHFFHFHF\n",
      "FFFHFFFG\n",
      "State observed by the Agent: 10\n",
      "  (Up)\n",
      "SF\u001b[41mF\u001b[0mFFFFF\n",
      "FFFFFFFF\n",
      "FFFHFFFF\n",
      "FFFFFHFF\n",
      "FFFHFFFF\n",
      "FHHFFFHF\n",
      "FHFFHFHF\n",
      "FFFHFFFG\n",
      "State observed by the Agent: 2\n",
      "  (Up)\n",
      "S\u001b[41mF\u001b[0mFFFFFF\n",
      "FFFFFFFF\n",
      "FFFHFFFF\n",
      "FFFFFHFF\n",
      "FFFHFFFF\n",
      "FHHFFFHF\n",
      "FHFFHFHF\n",
      "FFFHFFFG\n",
      "State observed by the Agent: 1\n",
      "  (Right)\n",
      "SF\u001b[41mF\u001b[0mFFFFF\n",
      "FFFFFFFF\n",
      "FFFHFFFF\n",
      "FFFFFHFF\n",
      "FFFHFFFF\n",
      "FHHFFFHF\n",
      "FHFFHFHF\n",
      "FFFHFFFG\n",
      "State observed by the Agent: 2\n",
      "  (Right)\n",
      "SFF\u001b[41mF\u001b[0mFFFF\n",
      "FFFFFFFF\n",
      "FFFHFFFF\n",
      "FFFFFHFF\n",
      "FFFHFFFF\n",
      "FHHFFFHF\n",
      "FHFFHFHF\n",
      "FFFHFFFG\n",
      "State observed by the Agent: 3\n",
      "  (Down)\n",
      "SFFF\u001b[41mF\u001b[0mFFF\n",
      "FFFFFFFF\n",
      "FFFHFFFF\n",
      "FFFFFHFF\n",
      "FFFHFFFF\n",
      "FHHFFFHF\n",
      "FHFFHFHF\n",
      "FFFHFFFG\n",
      "State observed by the Agent: 4\n",
      "  (Right)\n",
      "SFFF\u001b[41mF\u001b[0mFFF\n",
      "FFFFFFFF\n",
      "FFFHFFFF\n",
      "FFFFFHFF\n",
      "FFFHFFFF\n",
      "FHHFFFHF\n",
      "FHFFHFHF\n",
      "FFFHFFFG\n",
      "State observed by the Agent: 4\n",
      "  (Right)\n",
      "SFFF\u001b[41mF\u001b[0mFFF\n",
      "FFFFFFFF\n",
      "FFFHFFFF\n",
      "FFFFFHFF\n",
      "FFFHFFFF\n",
      "FHHFFFHF\n",
      "FHFFHFHF\n",
      "FFFHFFFG\n",
      "State observed by the Agent: 4\n",
      "  (Down)\n",
      "SFFFFFFF\n",
      "FFFF\u001b[41mF\u001b[0mFFF\n",
      "FFFHFFFF\n",
      "FFFFFHFF\n",
      "FFFHFFFF\n",
      "FHHFFFHF\n",
      "FHFFHFHF\n",
      "FFFHFFFG\n",
      "State observed by the Agent: 12\n",
      "  (Up)\n",
      "SFFFFFFF\n",
      "FFFFF\u001b[41mF\u001b[0mFF\n",
      "FFFHFFFF\n",
      "FFFFFHFF\n",
      "FFFHFFFF\n",
      "FHHFFFHF\n",
      "FHFFHFHF\n",
      "FFFHFFFG\n",
      "State observed by the Agent: 13\n",
      "  (Left)\n",
      "SFFFFFFF\n",
      "FFFF\u001b[41mF\u001b[0mFFF\n",
      "FFFHFFFF\n",
      "FFFFFHFF\n",
      "FFFHFFFF\n",
      "FHHFFFHF\n",
      "FHFFHFHF\n",
      "FFFHFFFG\n",
      "State observed by the Agent: 12\n",
      "  (Left)\n",
      "SFFF\u001b[41mF\u001b[0mFFF\n",
      "FFFFFFFF\n",
      "FFFHFFFF\n",
      "FFFFFHFF\n",
      "FFFHFFFF\n",
      "FHHFFFHF\n",
      "FHFFHFHF\n",
      "FFFHFFFG\n",
      "State observed by the Agent: 4\n",
      "  (Right)\n",
      "SFFF\u001b[41mF\u001b[0mFFF\n",
      "FFFFFFFF\n",
      "FFFHFFFF\n",
      "FFFFFHFF\n",
      "FFFHFFFF\n",
      "FHHFFFHF\n",
      "FHFFHFHF\n",
      "FFFHFFFG\n",
      "State observed by the Agent: 4\n",
      "  (Down)\n",
      "SFFFF\u001b[41mF\u001b[0mFF\n",
      "FFFFFFFF\n",
      "FFFHFFFF\n",
      "FFFFFHFF\n",
      "FFFHFFFF\n",
      "FHHFFFHF\n",
      "FHFFHFHF\n",
      "FFFHFFFG\n",
      "State observed by the Agent: 5\n",
      "  (Right)\n",
      "SFFFFF\u001b[41mF\u001b[0mF\n",
      "FFFFFFFF\n",
      "FFFHFFFF\n",
      "FFFFFHFF\n",
      "FFFHFFFF\n",
      "FHHFFFHF\n",
      "FHFFHFHF\n",
      "FFFHFFFG\n",
      "State observed by the Agent: 6\n",
      "  (Left)\n",
      "SFFFFFFF\n",
      "FFFFFF\u001b[41mF\u001b[0mF\n",
      "FFFHFFFF\n",
      "FFFFFHFF\n",
      "FFFHFFFF\n",
      "FHHFFFHF\n",
      "FHFFHFHF\n",
      "FFFHFFFG\n",
      "State observed by the Agent: 14\n",
      "  (Right)\n",
      "SFFFFF\u001b[41mF\u001b[0mF\n",
      "FFFFFFFF\n",
      "FFFHFFFF\n",
      "FFFFFHFF\n",
      "FFFHFFFF\n",
      "FHHFFFHF\n",
      "FHFFHFHF\n",
      "FFFHFFFG\n",
      "State observed by the Agent: 6\n",
      "  (Down)\n",
      "SFFFFFFF\n",
      "FFFFFF\u001b[41mF\u001b[0mF\n",
      "FFFHFFFF\n",
      "FFFFFHFF\n",
      "FFFHFFFF\n",
      "FHHFFFHF\n",
      "FHFFHFHF\n",
      "FFFHFFFG\n",
      "State observed by the Agent: 14\n",
      "  (Down)\n",
      "SFFFFFFF\n",
      "FFFFF\u001b[41mF\u001b[0mFF\n",
      "FFFHFFFF\n",
      "FFFFFHFF\n",
      "FFFHFFFF\n",
      "FHHFFFHF\n",
      "FHFFHFHF\n",
      "FFFHFFFG\n",
      "State observed by the Agent: 13\n",
      "  (Down)\n",
      "SFFFFFFF\n",
      "FFFF\u001b[41mF\u001b[0mFFF\n",
      "FFFHFFFF\n",
      "FFFFFHFF\n",
      "FFFHFFFF\n",
      "FHHFFFHF\n",
      "FHFFHFHF\n",
      "FFFHFFFG\n",
      "State observed by the Agent: 12\n",
      "  (Left)\n",
      "SFFFFFFF\n",
      "FFFFFFFF\n",
      "FFFH\u001b[41mF\u001b[0mFFF\n",
      "FFFFFHFF\n",
      "FFFHFFFF\n",
      "FHHFFFHF\n",
      "FHFFHFHF\n",
      "FFFHFFFG\n",
      "State observed by the Agent: 20\n",
      "  (Down)\n",
      "SFFFFFFF\n",
      "FFFFFFFF\n",
      "FFFHF\u001b[41mF\u001b[0mFF\n",
      "FFFFFHFF\n",
      "FFFHFFFF\n",
      "FHHFFFHF\n",
      "FHFFHFHF\n",
      "FFFHFFFG\n",
      "State observed by the Agent: 21\n",
      "  (Down)\n",
      "SFFFFFFF\n",
      "FFFFFFFF\n",
      "FFFH\u001b[41mF\u001b[0mFFF\n",
      "FFFFFHFF\n",
      "FFFHFFFF\n",
      "FHHFFFHF\n",
      "FHFFHFHF\n",
      "FFFHFFFG\n",
      "State observed by the Agent: 20\n",
      "  (Down)\n",
      "SFFFFFFF\n",
      "FFFFFFFF\n",
      "FFF\u001b[41mH\u001b[0mFFFF\n",
      "FFFFFHFF\n",
      "FFFHFFFF\n",
      "FHHFFFHF\n",
      "FHFFHFHF\n",
      "FFFHFFFG\n"
     ]
    }
   ],
   "source": [
    "import gym\n",
    "\n",
    "env = gym.make(\"FrozenLake8x8-v0\") # This instantiates the environment\n",
    "# agent_act = lambda s: int(input('Provide an integer action in [LEFT = 0, DOWN = 1, RIGHT = 2, UP = 3]: ')) # human agent\n",
    "agent_act = lambda s: env.action_space.sample() # random agent\n",
    "\n",
    "# --- Unrolling an episode ---:\n",
    "state = env.reset() # Restart the episode\n",
    "while True: # Game loop\n",
    "    env.render() # visualize the environment\n",
    "    print(f\"State observed by the Agent: {state}\") # comparing to the render\n",
    "    action = agent_act(state)\n",
    "    next_state, reward, done, info = env.step(action) # make the string action into an int\n",
    "    state = next_state\n",
    "    \n",
    "    if done:\n",
    "        env.render() # rendering the final state\n",
    "        break"
   ]
  },
  {
   "cell_type": "markdown",
   "metadata": {},
   "source": [
    "Although it is abstracted out by the Reinforcement Learning framework, one part that is crucial for our implementations is the State and Action **spaces**. Basically, we need to know what kind of data the agent will get as input (state), and what kind of outputs we're expected to provide (actions). \n",
    "\n",
    "Gym provides objects to manipulate and explain these states to the Agent. For example, for FrozenLake:"
   ]
  },
  {
   "cell_type": "code",
   "execution_count": 12,
   "metadata": {},
   "outputs": [
    {
     "data": {
      "text/plain": [
       "Discrete(64)"
      ]
     },
     "execution_count": 12,
     "metadata": {},
     "output_type": "execute_result"
    }
   ],
   "source": [
    "env.observation_space"
   ]
  },
  {
   "cell_type": "markdown",
   "metadata": {},
   "source": [
    "So the FrozenLake observation space is a `Discrete` space with 64 elements in. In other words, what the Agent can be passed is a number from 0 to 63. While you probably used your vision of the entire lake to move around, the game is vastly different from this, and the agent rather has to remember the consequences of each action in each individual state.\n",
    "\n",
    "If you wanted to pass to the agent a list of scalars, indicating, for example, the position of its robot arm and the position of the element it has to grab, you would use the `Box` object. In order to instantiate one, you need to pass in the minimum and maximum values that the input could take, since some models require this to get initialized properly. These can be infinite, though, if need be."
   ]
  },
  {
   "cell_type": "code",
   "execution_count": 13,
   "metadata": {},
   "outputs": [
    {
     "data": {
      "text/plain": [
       "Box(6,)"
      ]
     },
     "execution_count": 13,
     "metadata": {},
     "output_type": "execute_result"
    }
   ],
   "source": [
    "high = np.array([1,1,1, 1,1,1]) # maximum imaginary position of your robot arm (1,1,1) and object to grab (1,1,1)\n",
    "low = -high\n",
    "gym.spaces.Box(low, high)"
   ]
  },
  {
   "cell_type": "markdown",
   "metadata": {},
   "source": [
    "The Agent will now take continuous 4 dimensional values!\n",
    "\n",
    "In this FrozenLake environment, if, instead of relying on memory, you wanted the Agent to be able to see the whole lake and be able to generalize over random hole and goal positions, you would need to pass in a `Box` of dimensions (8,8). However, you would still need to encode whether a cell of the `Box` is the agent, a frozen cell, the player, or a hole. To achieve this, you could say `-1=hole, 0=frozen, player=1, goal=2`, however, this doesn't make mathematical sense: the player is not \"half the goal\", and not \"negative a hole\". This will make it much harder for the Agent to understand its input. More logical would be to input several (8,8) specialized maps: one with the holes, one with the player, one with the goal. Since the frozen cells are the default, you don't really need to include it. Therefore this would lead to the following state space:"
   ]
  },
  {
   "cell_type": "code",
   "execution_count": 14,
   "metadata": {},
   "outputs": [
    {
     "data": {
      "text/plain": [
       "Box(8, 8, 3)"
      ]
     },
     "execution_count": 14,
     "metadata": {},
     "output_type": "execute_result"
    }
   ],
   "source": [
    "shape = (8,8,3)\n",
    "low = np.zeros(shape)\n",
    "high = np.ones(shape)\n",
    "gym.spaces.Box(low, high)"
   ]
  },
  {
   "cell_type": "markdown",
   "metadata": {},
   "source": [
    "Let's now turn to the Action space. In Reinforcement, there are two main types of action spaces *discrete* or *continuous*, which are both respectively covered by the `Discrete` and `Box` objects:\n",
    "\n",
    "- Discrete action spaces mean that you have a finite amount of possible actions - this is the case for a videogame controller, for example, with buttons A,B, and joystick inputs Left, Right..., plus eventual combinations. This is also the case for Chess or Go moves.\n",
    "- Continuous action spaces mean that the action is a continuous quantity (or vector of). This is the case when you drive a car, for example - you can press the gas pedal at any strength within minimum or maximum; you can turn the wheel at any angle. Robot arms tend to work with continuous action spaces as well, with actions corresponding to joint torques. It is quite frequent to *discretize* a continuous action space, even in robotics, since continuous action spaces can be hard to deal with.\n",
    "\n",
    "Let's see what FrozenLake does:"
   ]
  },
  {
   "cell_type": "code",
   "execution_count": 15,
   "metadata": {},
   "outputs": [
    {
     "data": {
      "text/plain": [
       "Discrete(4)"
      ]
     },
     "execution_count": 15,
     "metadata": {},
     "output_type": "execute_result"
    }
   ],
   "source": [
    "env.action_space"
   ]
  },
  {
   "cell_type": "markdown",
   "metadata": {},
   "source": [
    "We can efficiently sample from the action space using the `sample` method:"
   ]
  },
  {
   "cell_type": "code",
   "execution_count": 20,
   "metadata": {},
   "outputs": [
    {
     "data": {
      "text/plain": [
       "2"
      ]
     },
     "execution_count": 20,
     "metadata": {},
     "output_type": "execute_result"
    }
   ],
   "source": [
    "action = env.action_space.sample()\n",
    "action"
   ]
  },
  {
   "cell_type": "markdown",
   "metadata": {},
   "source": [
    "This directly implements a Random agent!"
   ]
  },
  {
   "cell_type": "markdown",
   "metadata": {},
   "source": [
    "### Custom Gym Environment\n",
    "Let's make an easy game with numpy and gym!\n",
    "\n",
    "Let's make one to shamelessly remind you about some numpy concepts. We spawn on a 5x5 grid, and our goal is to control the whole grid. From where we stand, we have 4 possible actions: North, West, South, or East; this designs the direction in which we will control all cells in the grid, from our position. For example, in this position:\n",
    "```\n",
    " - - - - -\n",
    " - - - - -\n",
    " - X - - -\n",
    " - - - - -\n",
    " - - - - -\n",
    " ```\n",
    "`-` is an uncontrolled cell, `X` if the player. If we perform action East:\n",
    " ```\n",
    " - - - - -\n",
    " - - - - -\n",
    " - X o o o\n",
    " - - - - -\n",
    " - - - - -\n",
    " ```\n",
    " We end up controlling (`o`) the states on our right. Let's say that the agent `X` is teleported to a random controlled spot after this action:\n",
    " ```\n",
    " - - - - -\n",
    " - - - - -\n",
    " - o o X o\n",
    " - - - - -\n",
    " - - - - -\n",
    " ```\n",
    " And the spot left behind is considered controlled. \n",
    " \n",
    " Our goal is to control the entire grid as soon as possible -- if there is one or zero spots left, the episode terminates and we finish the game. Our goal is to finish as soon as possible; therefore, the reward function can be `-1` per step, to motivate us to go faster.\n",
    " \n",
    "`-`, `o` and `X` are only for visualization purposes; from the perspective of an RL Agent, it would be better if these were one-hot encoded vectors (see the state space part on FrozenLake). For now, since we're not going to have an Agent learn this environment in a while, let's make them respectively 0, 1 and 2. The state is therefore a matrix of these values."
   ]
  },
  {
   "cell_type": "code",
   "execution_count": 6,
   "metadata": {},
   "outputs": [],
   "source": [
    "import gym\n",
    "from gym import core, spaces\n",
    "import numpy as np\n",
    "\n",
    "class GridGameEnv(core.Env):\n",
    "    def __init__(self):\n",
    "        self.shape = (5,5)\n",
    "        high = np.full(self.shape, 2.) # maximum value attainable by the state\n",
    "        low  = np.full(self.shape, 0.) # minimum value attainable by the state\n",
    "        self.observation_space = spaces.Box(low=low, high=high, dtype=np.float32)\n",
    "        self.action_space = spaces.Discrete(4) # 4 'Discrete' actions, i.e. no \"0.5 North and 1.3 East\" stuff\n",
    "        self.act_to_dir = {\n",
    "            0: 'North',\n",
    "            1: 'East',\n",
    "            2: 'South',\n",
    "            3: 'West',\n",
    "        }\n",
    "\n",
    "    def _get_obs(self):\n",
    "        out = self.controlled.copy()\n",
    "        out[tuple(self.agent_pos)] = 2\n",
    "        return out\n",
    "        \n",
    "    def reset(self):\n",
    "        # When an episode restarts. Reset the grid, replace the agent somewhere\n",
    "        self.agent_pos = np.random.randint(0,5, 2) # simple x,y coordinates\n",
    "        print(f\"Agent pos: {self.agent_pos}\")\n",
    "        self.controlled = np.zeros(self.shape, dtype=np.int64)\n",
    "        self.controlled[tuple(self.agent_pos)] = 1\n",
    "        \n",
    "        return self._get_obs()\n",
    "    \n",
    "    def step(self, a):\n",
    "        a = self.act_to_dir[a]\n",
    "        if a=='North':\n",
    "            self.controlled[:self.agent_pos[0]+1, self.agent_pos[1]]   = 1\n",
    "        if a=='East':\n",
    "            self.controlled[self.agent_pos[0],    self.agent_pos[1]:]  = 1\n",
    "        if a=='South':\n",
    "            self.controlled[self.agent_pos[0]:,   self.agent_pos[1]]   = 1\n",
    "        if a=='West':\n",
    "            self.controlled[self.agent_pos[0],   :self.agent_pos[1]+1] = 1\n",
    "                    \n",
    "        reward = -1\n",
    "        done = (1-self.controlled).sum() == 0\n",
    "\n",
    "        if not done:\n",
    "            free = np.array(np.where(self.controlled == 1)).T\n",
    "            random_row = np.random.randint(free.shape[0])\n",
    "            self.agent_pos = free[random_row]\n",
    "            next_obs = self._get_obs()\n",
    "        else:\n",
    "            next_obs = np.ones_like(self.controlled)\n",
    "        \n",
    "        return next_obs, reward, done #, info\n",
    "\n",
    "    def render(self):\n",
    "        obs = self._get_obs().astype(str) # 0 1 2 in raw text\n",
    "        obs[obs=='0'] = '-'\n",
    "        obs[obs=='1'] = 'o'\n",
    "        obs[obs=='2'] = 'X'\n",
    "        print(obs) # could make something more fancy here\n",
    "\n",
    "    def close(self):\n",
    "        pass\n",
    "\n"
   ]
  },
  {
   "cell_type": "markdown",
   "metadata": {},
   "source": [
    "Sadly, it is not possible to add and `gym.make` a gym environment through a jupyter notebook, because it expects environments to be written in a module. So instead of being fancy, we can just instantiate our Environment like any conventional python object for now; do keep this in mind and store your Env in a module if you ever need to create your own gym Env."
   ]
  },
  {
   "cell_type": "code",
   "execution_count": 11,
   "metadata": {},
   "outputs": [
    {
     "name": "stdout",
     "output_type": "stream",
     "text": [
      "Agent pos: [2 2]\n",
      "\n",
      "-- Step t=0:\n",
      "[['-' '-' '-' '-' '-']\n",
      " ['-' '-' '-' '-' '-']\n",
      " ['-' '-' 'X' '-' '-']\n",
      " ['-' '-' '-' '-' '-']\n",
      " ['-' '-' '-' '-' '-']]\n",
      "Performing action East\n",
      "\n",
      "-- Step t=1:\n",
      "[['-' '-' '-' '-' '-']\n",
      " ['-' '-' '-' '-' '-']\n",
      " ['-' '-' 'o' 'o' 'X']\n",
      " ['-' '-' '-' '-' '-']\n",
      " ['-' '-' '-' '-' '-']]\n",
      "Performing action South\n",
      "\n",
      "-- Step t=2:\n",
      "[['-' '-' '-' '-' '-']\n",
      " ['-' '-' '-' '-' '-']\n",
      " ['-' '-' 'o' 'o' 'X']\n",
      " ['-' '-' '-' '-' 'o']\n",
      " ['-' '-' '-' '-' 'o']]\n",
      "Performing action East\n",
      "\n",
      "-- Step t=3:\n",
      "[['-' '-' '-' '-' '-']\n",
      " ['-' '-' '-' '-' '-']\n",
      " ['-' '-' 'o' 'o' 'X']\n",
      " ['-' '-' '-' '-' 'o']\n",
      " ['-' '-' '-' '-' 'o']]\n",
      "Performing action South\n",
      "\n",
      "-- Step t=4:\n",
      "[['-' '-' '-' '-' '-']\n",
      " ['-' '-' '-' '-' '-']\n",
      " ['-' '-' 'X' 'o' 'o']\n",
      " ['-' '-' '-' '-' 'o']\n",
      " ['-' '-' '-' '-' 'o']]\n",
      "Performing action East\n",
      "\n",
      "-- Step t=5:\n",
      "[['-' '-' '-' '-' '-']\n",
      " ['-' '-' '-' '-' '-']\n",
      " ['-' '-' 'o' 'o' 'o']\n",
      " ['-' '-' '-' '-' 'o']\n",
      " ['-' '-' '-' '-' 'X']]\n",
      "Performing action West\n",
      "\n",
      "-- Step t=6:\n",
      "[['-' '-' '-' '-' '-']\n",
      " ['-' '-' '-' '-' '-']\n",
      " ['-' '-' 'o' 'o' 'o']\n",
      " ['-' '-' '-' '-' 'o']\n",
      " ['o' 'X' 'o' 'o' 'o']]\n",
      "Performing action East\n",
      "\n",
      "-- Step t=7:\n",
      "[['-' '-' '-' '-' '-']\n",
      " ['-' '-' '-' '-' '-']\n",
      " ['-' '-' 'o' 'o' 'o']\n",
      " ['-' '-' '-' '-' 'X']\n",
      " ['o' 'o' 'o' 'o' 'o']]\n",
      "Performing action West\n",
      "\n",
      "-- Step t=8:\n",
      "[['-' '-' '-' '-' '-']\n",
      " ['-' '-' '-' '-' '-']\n",
      " ['-' '-' 'o' 'o' 'o']\n",
      " ['o' 'o' 'X' 'o' 'o']\n",
      " ['o' 'o' 'o' 'o' 'o']]\n",
      "Performing action East\n",
      "\n",
      "-- Step t=9:\n",
      "[['-' '-' '-' '-' '-']\n",
      " ['-' '-' '-' '-' '-']\n",
      " ['-' '-' 'o' 'o' 'o']\n",
      " ['o' 'o' 'o' 'o' 'o']\n",
      " ['o' 'o' 'o' 'o' 'X']]\n",
      "Performing action West\n",
      "\n",
      "-- Step t=10:\n",
      "[['-' '-' '-' '-' '-']\n",
      " ['-' '-' '-' '-' '-']\n",
      " ['-' '-' 'o' 'o' 'o']\n",
      " ['o' 'o' 'o' 'o' 'X']\n",
      " ['o' 'o' 'o' 'o' 'o']]\n",
      "Performing action East\n",
      "\n",
      "-- Step t=11:\n",
      "[['-' '-' '-' '-' '-']\n",
      " ['-' '-' '-' '-' '-']\n",
      " ['-' '-' 'o' 'o' 'o']\n",
      " ['o' 'o' 'o' 'o' 'o']\n",
      " ['o' 'o' 'o' 'X' 'o']]\n",
      "Performing action West\n",
      "\n",
      "-- Step t=12:\n",
      "[['-' '-' '-' '-' '-']\n",
      " ['-' '-' '-' '-' '-']\n",
      " ['-' '-' 'o' 'X' 'o']\n",
      " ['o' 'o' 'o' 'o' 'o']\n",
      " ['o' 'o' 'o' 'o' 'o']]\n",
      "Performing action East\n",
      "\n",
      "-- Step t=13:\n",
      "[['-' '-' '-' '-' '-']\n",
      " ['-' '-' '-' '-' '-']\n",
      " ['-' '-' 'o' 'o' 'o']\n",
      " ['o' 'o' 'o' 'o' 'o']\n",
      " ['X' 'o' 'o' 'o' 'o']]\n",
      "Performing action West\n",
      "\n",
      "-- Step t=14:\n",
      "[['-' '-' '-' '-' '-']\n",
      " ['-' '-' '-' '-' '-']\n",
      " ['-' '-' 'o' 'X' 'o']\n",
      " ['o' 'o' 'o' 'o' 'o']\n",
      " ['o' 'o' 'o' 'o' 'o']]\n",
      "Performing action East\n",
      "\n",
      "-- Step t=15:\n",
      "[['-' '-' '-' '-' '-']\n",
      " ['-' '-' '-' '-' '-']\n",
      " ['-' '-' 'o' 'o' 'o']\n",
      " ['o' 'o' 'o' 'o' 'o']\n",
      " ['o' 'o' 'X' 'o' 'o']]\n",
      "Performing action West\n",
      "\n",
      "-- Step t=16:\n",
      "[['-' '-' '-' '-' '-']\n",
      " ['-' '-' '-' '-' '-']\n",
      " ['-' '-' 'o' 'o' 'o']\n",
      " ['o' 'o' 'o' 'o' 'o']\n",
      " ['o' 'o' 'X' 'o' 'o']]\n",
      "Performing action East\n",
      "\n",
      "-- Step t=17:\n",
      "[['-' '-' '-' '-' '-']\n",
      " ['-' '-' '-' '-' '-']\n",
      " ['-' '-' 'o' 'o' 'o']\n",
      " ['o' 'X' 'o' 'o' 'o']\n",
      " ['o' 'o' 'o' 'o' 'o']]\n",
      "Performing action South\n",
      "\n",
      "-- Step t=18:\n",
      "[['-' '-' '-' '-' '-']\n",
      " ['-' '-' '-' '-' '-']\n",
      " ['-' '-' 'o' 'o' 'o']\n",
      " ['o' 'o' 'o' 'o' 'o']\n",
      " ['o' 'o' 'o' 'X' 'o']]\n",
      "Performing action East\n",
      "\n",
      "-- Step t=19:\n",
      "[['-' '-' '-' '-' '-']\n",
      " ['-' '-' '-' '-' '-']\n",
      " ['-' '-' 'o' 'o' 'X']\n",
      " ['o' 'o' 'o' 'o' 'o']\n",
      " ['o' 'o' 'o' 'o' 'o']]\n",
      "Performing action North\n",
      "\n",
      "-- Step t=20:\n",
      "[['-' '-' '-' '-' 'o']\n",
      " ['-' '-' '-' '-' 'X']\n",
      " ['-' '-' 'o' 'o' 'o']\n",
      " ['o' 'o' 'o' 'o' 'o']\n",
      " ['o' 'o' 'o' 'o' 'o']]\n",
      "Performing action North\n",
      "\n",
      "-- Step t=21:\n",
      "[['-' '-' '-' '-' 'o']\n",
      " ['-' '-' '-' '-' 'o']\n",
      " ['-' '-' 'o' 'o' 'o']\n",
      " ['o' 'o' 'o' 'o' 'o']\n",
      " ['o' 'X' 'o' 'o' 'o']]\n",
      "Performing action North\n",
      "\n",
      "-- Step t=22:\n",
      "[['-' 'o' '-' '-' 'o']\n",
      " ['-' 'X' '-' '-' 'o']\n",
      " ['-' 'o' 'o' 'o' 'o']\n",
      " ['o' 'o' 'o' 'o' 'o']\n",
      " ['o' 'o' 'o' 'o' 'o']]\n",
      "Performing action North\n",
      "\n",
      "-- Step t=23:\n",
      "[['-' 'o' '-' '-' 'o']\n",
      " ['-' 'o' '-' '-' 'o']\n",
      " ['-' 'o' 'o' 'o' 'o']\n",
      " ['o' 'o' 'o' 'X' 'o']\n",
      " ['o' 'o' 'o' 'o' 'o']]\n",
      "Performing action North\n",
      "\n",
      "-- Step t=24:\n",
      "[['-' 'o' '-' 'o' 'o']\n",
      " ['-' 'o' '-' 'o' 'X']\n",
      " ['-' 'o' 'o' 'o' 'o']\n",
      " ['o' 'o' 'o' 'o' 'o']\n",
      " ['o' 'o' 'o' 'o' 'o']]\n",
      "Performing action North\n",
      "\n",
      "-- Step t=25:\n",
      "[['-' 'o' '-' 'o' 'o']\n",
      " ['-' 'o' '-' 'o' 'o']\n",
      " ['-' 'o' 'o' 'o' 'o']\n",
      " ['o' 'o' 'o' 'o' 'X']\n",
      " ['o' 'o' 'o' 'o' 'o']]\n",
      "Performing action North\n",
      "\n",
      "-- Step t=26:\n",
      "[['-' 'o' '-' 'o' 'o']\n",
      " ['-' 'o' '-' 'o' 'o']\n",
      " ['-' 'o' 'o' 'o' 'o']\n",
      " ['o' 'X' 'o' 'o' 'o']\n",
      " ['o' 'o' 'o' 'o' 'o']]\n",
      "Performing action North\n",
      "\n",
      "-- Step t=27:\n",
      "[['-' 'o' '-' 'o' 'o']\n",
      " ['-' 'o' '-' 'o' 'o']\n",
      " ['-' 'o' 'o' 'o' 'o']\n",
      " ['o' 'o' 'o' 'o' 'o']\n",
      " ['o' 'o' 'o' 'X' 'o']]\n",
      "Performing action North\n",
      "\n",
      "-- Step t=28:\n",
      "[['-' 'o' '-' 'o' 'o']\n",
      " ['-' 'o' '-' 'o' 'o']\n",
      " ['-' 'o' 'o' 'o' 'o']\n",
      " ['o' 'o' 'o' 'o' 'o']\n",
      " ['X' 'o' 'o' 'o' 'o']]\n",
      "Performing action North\n",
      "\n",
      "-- Step t=29:\n",
      "[['o' 'o' '-' 'o' 'o']\n",
      " ['o' 'o' '-' 'X' 'o']\n",
      " ['o' 'o' 'o' 'o' 'o']\n",
      " ['o' 'o' 'o' 'o' 'o']\n",
      " ['o' 'o' 'o' 'o' 'o']]\n",
      "Performing action North\n",
      "\n",
      "-- Step t=30:\n",
      "[['o' 'o' '-' 'o' 'o']\n",
      " ['X' 'o' '-' 'o' 'o']\n",
      " ['o' 'o' 'o' 'o' 'o']\n",
      " ['o' 'o' 'o' 'o' 'o']\n",
      " ['o' 'o' 'o' 'o' 'o']]\n",
      "Performing action North\n",
      "\n",
      "-- Step t=31:\n",
      "[['o' 'o' '-' 'o' 'o']\n",
      " ['o' 'o' '-' 'o' 'o']\n",
      " ['o' 'o' 'o' 'X' 'o']\n",
      " ['o' 'o' 'o' 'o' 'o']\n",
      " ['o' 'o' 'o' 'o' 'o']]\n",
      "Performing action North\n",
      "\n",
      "-- Step t=32:\n",
      "[['o' 'X' '-' 'o' 'o']\n",
      " ['o' 'o' '-' 'o' 'o']\n",
      " ['o' 'o' 'o' 'o' 'o']\n",
      " ['o' 'o' 'o' 'o' 'o']\n",
      " ['o' 'o' 'o' 'o' 'o']]\n",
      "Performing action North\n",
      "\n",
      "-- Step t=33:\n",
      "[['o' 'o' '-' 'o' 'o']\n",
      " ['o' 'o' '-' 'o' 'o']\n",
      " ['o' 'o' 'o' 'X' 'o']\n",
      " ['o' 'o' 'o' 'o' 'o']\n",
      " ['o' 'o' 'o' 'o' 'o']]\n",
      "Performing action North\n",
      "\n",
      "-- Step t=34:\n",
      "[['o' 'o' '-' 'o' 'o']\n",
      " ['o' 'o' '-' 'o' 'o']\n",
      " ['o' 'o' 'o' 'o' 'o']\n",
      " ['o' 'X' 'o' 'o' 'o']\n",
      " ['o' 'o' 'o' 'o' 'o']]\n",
      "Performing action North\n",
      "\n",
      "-- Step t=35:\n",
      "[['o' 'o' '-' 'o' 'o']\n",
      " ['o' 'o' '-' 'o' 'o']\n",
      " ['o' 'o' 'o' 'o' 'o']\n",
      " ['o' 'X' 'o' 'o' 'o']\n",
      " ['o' 'o' 'o' 'o' 'o']]\n",
      "Performing action North\n",
      "\n",
      "-- Step t=36:\n",
      "[['o' 'o' '-' 'o' 'X']\n",
      " ['o' 'o' '-' 'o' 'o']\n",
      " ['o' 'o' 'o' 'o' 'o']\n",
      " ['o' 'o' 'o' 'o' 'o']\n",
      " ['o' 'o' 'o' 'o' 'o']]\n",
      "Performing action North\n",
      "\n",
      "-- Step t=37:\n",
      "[['o' 'o' '-' 'o' 'o']\n",
      " ['o' 'X' '-' 'o' 'o']\n",
      " ['o' 'o' 'o' 'o' 'o']\n",
      " ['o' 'o' 'o' 'o' 'o']\n",
      " ['o' 'o' 'o' 'o' 'o']]\n",
      "Performing action North\n",
      "\n",
      "-- Step t=38:\n",
      "[['o' 'o' '-' 'o' 'o']\n",
      " ['o' 'o' '-' 'o' 'o']\n",
      " ['o' 'o' 'o' 'o' 'o']\n",
      " ['X' 'o' 'o' 'o' 'o']\n",
      " ['o' 'o' 'o' 'o' 'o']]\n",
      "Performing action North\n",
      "\n",
      "-- Step t=39:\n",
      "[['o' 'o' '-' 'o' 'o']\n",
      " ['o' 'X' '-' 'o' 'o']\n",
      " ['o' 'o' 'o' 'o' 'o']\n",
      " ['o' 'o' 'o' 'o' 'o']\n",
      " ['o' 'o' 'o' 'o' 'o']]\n",
      "Performing action North\n",
      "\n",
      "-- Step t=40:\n",
      "[['o' 'o' '-' 'o' 'o']\n",
      " ['o' 'o' '-' 'o' 'o']\n",
      " ['o' 'o' 'o' 'o' 'o']\n",
      " ['o' 'o' 'o' 'o' 'o']\n",
      " ['o' 'X' 'o' 'o' 'o']]\n",
      "Performing action North\n",
      "\n",
      "-- Step t=41:\n",
      "[['o' 'X' '-' 'o' 'o']\n",
      " ['o' 'o' '-' 'o' 'o']\n",
      " ['o' 'o' 'o' 'o' 'o']\n",
      " ['o' 'o' 'o' 'o' 'o']\n",
      " ['o' 'o' 'o' 'o' 'o']]\n",
      "Performing action North\n",
      "\n",
      "-- Step t=42:\n",
      "[['o' 'o' '-' 'o' 'o']\n",
      " ['o' 'X' '-' 'o' 'o']\n",
      " ['o' 'o' 'o' 'o' 'o']\n",
      " ['o' 'o' 'o' 'o' 'o']\n",
      " ['o' 'o' 'o' 'o' 'o']]\n",
      "Performing action North\n",
      "\n",
      "-- Step t=43:\n",
      "[['o' 'o' '-' 'o' 'o']\n",
      " ['o' 'o' '-' 'o' 'o']\n",
      " ['o' 'o' 'o' 'X' 'o']\n",
      " ['o' 'o' 'o' 'o' 'o']\n",
      " ['o' 'o' 'o' 'o' 'o']]\n",
      "Performing action North\n",
      "\n",
      "-- Step t=44:\n",
      "[['o' 'o' '-' 'o' 'o']\n",
      " ['o' 'o' '-' 'o' 'o']\n",
      " ['o' 'o' 'o' 'o' 'o']\n",
      " ['X' 'o' 'o' 'o' 'o']\n",
      " ['o' 'o' 'o' 'o' 'o']]\n",
      "Performing action North\n",
      "\n",
      "-- Step t=45:\n",
      "[['o' 'o' '-' 'o' 'X']\n",
      " ['o' 'o' '-' 'o' 'o']\n",
      " ['o' 'o' 'o' 'o' 'o']\n",
      " ['o' 'o' 'o' 'o' 'o']\n",
      " ['o' 'o' 'o' 'o' 'o']]\n",
      "Performing action North\n",
      "\n",
      "-- Step t=46:\n",
      "[['o' 'o' '-' 'o' 'X']\n",
      " ['o' 'o' '-' 'o' 'o']\n",
      " ['o' 'o' 'o' 'o' 'o']\n",
      " ['o' 'o' 'o' 'o' 'o']\n",
      " ['o' 'o' 'o' 'o' 'o']]\n",
      "Performing action North\n",
      "\n",
      "-- Step t=47:\n",
      "[['o' 'o' '-' 'o' 'o']\n",
      " ['o' 'o' '-' 'o' 'o']\n",
      " ['o' 'o' 'o' 'o' 'o']\n",
      " ['X' 'o' 'o' 'o' 'o']\n",
      " ['o' 'o' 'o' 'o' 'o']]\n",
      "Performing action North\n",
      "\n",
      "-- Step t=48:\n",
      "[['o' 'o' '-' 'o' 'o']\n",
      " ['o' 'o' '-' 'o' 'o']\n",
      " ['o' 'o' 'o' 'o' 'o']\n",
      " ['o' 'o' 'o' 'o' 'o']\n",
      " ['o' 'o' 'X' 'o' 'o']]\n",
      "Performing action North\n",
      "[['o' 'o' 'o' 'o' 'o']\n",
      " ['o' 'o' 'o' 'o' 'o']\n",
      " ['o' 'o' 'o' 'o' 'o']\n",
      " ['o' 'o' 'o' 'o' 'o']\n",
      " ['o' 'o' 'X' 'o' 'o']]\n",
      "Done at step 49 with total reward -49.\n"
     ]
    }
   ],
   "source": [
    "env = GridGameEnv() # This instantiates the environment\n",
    "agent_act = lambda s: int(input('Provide an integer action in [0: Up, 1: Right, 2: Down, 3: Left]: ')) # human agent\n",
    "#agent_act = lambda s: env.action_space.sample() # random agent\n",
    "\n",
    "# --- Unrolling an episode ---:\n",
    "state = env.reset() # Restart the episode\n",
    "\n",
    "t = 0 # timestep, for our understanding\n",
    "G = 0 # sum of rewards\n",
    "while True: # Game loop\n",
    "    print(f\"\\n-- Step t={t}:\")\n",
    "    env.render() # visualize the environment\n",
    "    action = agent_act(state)\n",
    "    print(f\"Performing action {env.act_to_dir[action]}\")\n",
    "    # next_state, reward, done, info = env.step(int(action)) # make the string action into an int\n",
    "    next_state, reward, done = env.step(int(action)) # make the string action into an int\n",
    "\n",
    "    t += 1\n",
    "    G += reward\n",
    "    \n",
    "    if done:\n",
    "        env.render() # rendering the final state\n",
    "        break\n",
    "print(f\"Done at step {t} with total reward {G}.\")"
   ]
  },
  {
   "cell_type": "markdown",
   "metadata": {},
   "source": [
    "That's it for this lab!\n",
    "\n",
    "Good job and see you next week!"
   ]
  }
 ],
 "metadata": {
  "kernelspec": {
   "display_name": "RLenv3.10",
   "language": "python",
   "name": "python3"
  },
  "language_info": {
   "codemirror_mode": {
    "name": "ipython",
    "version": 3
   },
   "file_extension": ".py",
   "mimetype": "text/x-python",
   "name": "python",
   "nbconvert_exporter": "python",
   "pygments_lexer": "ipython3",
   "version": "3.10.0"
  },
  "vscode": {
   "interpreter": {
    "hash": "15c2bfde5f23025eecb1a50f2dc0bc72eca7314f1785aa30c55a3080176b5a0e"
   }
  }
 },
 "nbformat": 4,
 "nbformat_minor": 2
}
